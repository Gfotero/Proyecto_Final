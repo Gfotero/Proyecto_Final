{
 "cells": [
  {
   "cell_type": "markdown",
   "metadata": {},
   "source": [
    "### Librerias"
   ]
  },
  {
   "cell_type": "code",
   "execution_count": 66,
   "metadata": {},
   "outputs": [],
   "source": [
    "import sqlite3\n",
    "import pandas as pd\n",
    "import numpy as np\n",
    "import matplotlib.pyplot as plt\n",
    "from sklearn.ensemble import RandomForestClassifier\n",
    "from sklearn.metrics import accuracy_score\n",
    "#import joblib\n",
    "from pickle import dump\n",
    "import scipy.stats as stats\n",
    "from scipy.stats import gaussian_kde\n",
    "from sklearn.utils import resample\n",
    "from sklearn.model_selection import train_test_split, StratifiedKFold, cross_val_score\n",
    "from sklearn.metrics import classification_report\n",
    "import warnings\n",
    "\n",
    "# Ignorar advertencias de ajuste\n",
    "warnings.filterwarnings(\"ignore\")\n"
   ]
  },
  {
   "cell_type": "code",
   "execution_count": 32,
   "metadata": {},
   "outputs": [],
   "source": [
    "conn = sqlite3.connect('accidentes_usa.db')\n",
    "cursor_obj = conn.cursor()\n",
    "\n",
    "# Cargar los conjuntos de datos\n",
    "data = pd.read_sql('SELECT * FROM acc_usa_comp', conn)\n",
    "\n",
    "# Cerrar la conexión\n",
    "conn.close()"
   ]
  },
  {
   "cell_type": "code",
   "execution_count": 33,
   "metadata": {},
   "outputs": [
    {
     "name": "stdout",
     "output_type": "stream",
     "text": [
      "<class 'pandas.core.frame.DataFrame'>\n",
      "RangeIndex: 1178913 entries, 0 to 1178912\n",
      "Data columns (total 48 columns):\n",
      " #   Column                 Non-Null Count    Dtype  \n",
      "---  ------                 --------------    -----  \n",
      " 0   ID                     1178913 non-null  object \n",
      " 1   Source                 1178913 non-null  object \n",
      " 2   Severity               1178913 non-null  int64  \n",
      " 3   Start_Time             1178913 non-null  object \n",
      " 4   End_Time               1178913 non-null  object \n",
      " 5   Start_Lat              1178913 non-null  float64\n",
      " 6   Start_Lng              1178913 non-null  float64\n",
      " 7   End_Lat                708669 non-null   float64\n",
      " 8   End_Lng                708669 non-null   float64\n",
      " 9   Distance(mi)           1178913 non-null  float64\n",
      " 10  Description            1178912 non-null  object \n",
      " 11  Street                 1178476 non-null  object \n",
      " 12  City                   1178863 non-null  object \n",
      " 13  County                 1178913 non-null  object \n",
      " 14  State                  1178913 non-null  object \n",
      " 15  Zipcode                1178555 non-null  object \n",
      " 16  Country                1178913 non-null  object \n",
      " 17  Timezone               1177570 non-null  object \n",
      " 18  Airport_Code           1175829 non-null  object \n",
      " 19  Weather_Timestamp      1155154 non-null  object \n",
      " 20  Temperature(F)         1147949 non-null  float64\n",
      " 21  Wind_Chill(F)          1138750 non-null  float64\n",
      " 22  Humidity(%)            1145679 non-null  float64\n",
      " 23  Pressure(in)           1152998 non-null  float64\n",
      " 24  Visibility(mi)         1148557 non-null  float64\n",
      " 25  Wind_Direction         1143124 non-null  object \n",
      " 26  Wind_Speed(mph)        1143152 non-null  float64\n",
      " 27  Precipitation(in)      1116511 non-null  float64\n",
      " 28  Weather_Condition      1148939 non-null  object \n",
      " 29  Amenity                1178913 non-null  int64  \n",
      " 30  Bump                   1178913 non-null  int64  \n",
      " 31  Crossing               1178913 non-null  int64  \n",
      " 32  Give_Way               1178913 non-null  int64  \n",
      " 33  Junction               1178913 non-null  int64  \n",
      " 34  No_Exit                1178913 non-null  int64  \n",
      " 35  Railway                1178913 non-null  int64  \n",
      " 36  Roundabout             1178913 non-null  int64  \n",
      " 37  Station                1178913 non-null  int64  \n",
      " 38  Stop                   1178913 non-null  int64  \n",
      " 39  Traffic_Calming        1178913 non-null  int64  \n",
      " 40  Traffic_Signal         1178913 non-null  int64  \n",
      " 41  Turning_Loop           1178913 non-null  int64  \n",
      " 42  Sunrise_Sunset         1178536 non-null  object \n",
      " 43  Civil_Twilight         1178536 non-null  object \n",
      " 44  Nautical_Twilight      1178536 non-null  object \n",
      " 45  Astronomical_Twilight  1178536 non-null  object \n",
      " 46  year                   1178913 non-null  int64  \n",
      " 47  dur_acc                1178913 non-null  float64\n",
      "dtypes: float64(13), int64(15), object(20)\n",
      "memory usage: 431.7+ MB\n"
     ]
    }
   ],
   "source": [
    "data.info()"
   ]
  },
  {
   "cell_type": "code",
   "execution_count": 34,
   "metadata": {},
   "outputs": [
    {
     "data": {
      "text/plain": [
       "ID                            0\n",
       "Source                        0\n",
       "Severity                      0\n",
       "Start_Time                    0\n",
       "End_Time                      0\n",
       "Start_Lat                     0\n",
       "Start_Lng                     0\n",
       "End_Lat                  470244\n",
       "End_Lng                  470244\n",
       "Distance(mi)                  0\n",
       "Description                   1\n",
       "Street                      437\n",
       "City                         50\n",
       "County                        0\n",
       "State                         0\n",
       "Zipcode                     358\n",
       "Country                       0\n",
       "Timezone                   1343\n",
       "Airport_Code               3084\n",
       "Weather_Timestamp         23759\n",
       "Temperature(F)            30964\n",
       "Wind_Chill(F)             40163\n",
       "Humidity(%)               33234\n",
       "Pressure(in)              25915\n",
       "Visibility(mi)            30356\n",
       "Wind_Direction            35789\n",
       "Wind_Speed(mph)           35761\n",
       "Precipitation(in)         62402\n",
       "Weather_Condition         29974\n",
       "Amenity                       0\n",
       "Bump                          0\n",
       "Crossing                      0\n",
       "Give_Way                      0\n",
       "Junction                      0\n",
       "No_Exit                       0\n",
       "Railway                       0\n",
       "Roundabout                    0\n",
       "Station                       0\n",
       "Stop                          0\n",
       "Traffic_Calming               0\n",
       "Traffic_Signal                0\n",
       "Turning_Loop                  0\n",
       "Sunrise_Sunset              377\n",
       "Civil_Twilight              377\n",
       "Nautical_Twilight           377\n",
       "Astronomical_Twilight       377\n",
       "year                          0\n",
       "dur_acc                       0\n",
       "dtype: int64"
      ]
     },
     "execution_count": 34,
     "metadata": {},
     "output_type": "execute_result"
    }
   ],
   "source": [
    "data.isnull().sum()"
   ]
  },
  {
   "cell_type": "markdown",
   "metadata": {},
   "source": [
    "### Mejor Curva de Ajuste"
   ]
  },
  {
   "cell_type": "code",
   "execution_count": 18,
   "metadata": {},
   "outputs": [],
   "source": [
    "df_acc = data.copy()\n",
    "df_acc.dropna(axis=0, inplace=True)"
   ]
  },
  {
   "cell_type": "code",
   "execution_count": 19,
   "metadata": {},
   "outputs": [
    {
     "name": "stdout",
     "output_type": "stream",
     "text": [
      "Mejor distribución: beta\n",
      "Parámetros: (2.522087570071618, 2.4312420680592117, 23.18281026110141, 25.874983716452114)\n"
     ]
    }
   ],
   "source": [
    "\n",
    "# Seleccionar la columna que deseas probar\n",
    "col = df_acc['End_Lat']\n",
    "\n",
    "# Lista de distribuciones a probar\n",
    "distribuciones = [\n",
    "    stats.norm, stats.expon, stats.gamma, stats.beta, stats.lognorm,\n",
    "    stats.uniform, stats.weibull_min, stats.weibull_max, stats.t, stats.chi2\n",
    "]\n",
    "data1=df_acc\n",
    "# Función para ajustar distribuciones y seleccionar la mejor\n",
    "def mejor_distribucion(data1):\n",
    "    resultados = []\n",
    "    for distribucion in distribuciones:\n",
    "        params = distribucion.fit(data1)\n",
    "        # Calcular el valor de la función de verosimilitud\n",
    "        log_likelihood = distribucion.nnlf(params, data1)\n",
    "        resultados.append((distribucion.name, log_likelihood, params))\n",
    "    \n",
    "    # Seleccionar la distribución con el menor valor de log-likelihood\n",
    "    mejor_ajuste = min(resultados, key=lambda x: x[1])\n",
    "    return mejor_ajuste\n",
    "\n",
    "# Obtener la mejor distribución\n",
    "mejor_ajuste = mejor_distribucion(col)\n",
    "print(f\"Mejor distribución: {mejor_ajuste[0]}\")\n",
    "print(f\"Parámetros: {mejor_ajuste[2]}\")\n"
   ]
  },
  {
   "cell_type": "code",
   "execution_count": 24,
   "metadata": {},
   "outputs": [
    {
     "name": "stdout",
     "output_type": "stream",
     "text": [
      "{'gamma': {'a': 566.6611682774242, 'loc': -89.2726098307478, 'scale': 0.22176087055427574}}\n"
     ]
    }
   ],
   "source": [
    "import pandas as pd\n",
    "from fitter import Fitter\n",
    "\n",
    "# asume que 'df' es tu DataFrame y 'column_name' es la columna que deseas ajustar\n",
    "distributions = [\n",
    "    'normal',  # Distribución normal\n",
    "    'exponencial',  # Distribución exponencial\n",
    "    'uniforme',  # Distribución uniforme\n",
    "    'lognormal',  # Distribución lognormal\n",
    "    'gamma',  # Distribución gamma\n",
    "    'weibull',  # Distribución de Weibull\n",
    "    'pareto',  # Distribución de Pareto\n",
    "    'cauchy',  # Distribución de Cauchy\n",
    "    'logistic',  # Distribución logística\n",
    "    'gumbel'  # Distribución de Gumbel\n",
    "]\n",
    "\n",
    "f = Fitter(df_acc['End_Lat'], distributions=distributions)\n",
    "f.fit()\n",
    "print(f.get_best())"
   ]
  },
  {
   "cell_type": "code",
   "execution_count": 25,
   "metadata": {},
   "outputs": [
    {
     "data": {
      "image/png": "[encoded data removed]",
      "text/plain": [
       "<Figure size 640x480 with 1 Axes>"
      ]
     },
     "metadata": {},
     "output_type": "display_data"
    },
    {
     "name": "stdout",
     "output_type": "stream",
     "text": [
      "Estadístico D: 0.06098718580090684\n",
      "Valor p: 0.0\n",
      "La columna no se ajusta a la distribución gamma (se rechaza H0)\n"
     ]
    }
   ],
   "source": [
    "# Seleccionar la columna que deseas probar\n",
    "columna = df_acc['End_Lat']\n",
    "\n",
    "# Ajustar la distribución gamma a los datos\n",
    "shape, loc, scale = stats.gamma.fit(columna)\n",
    "\n",
    "# Generar valores ajustados\n",
    "x = np.linspace(min(columna), max(columna), 100)\n",
    "fitted_pdf = stats.gamma.pdf(x, shape, loc, scale)\n",
    "\n",
    "# Graficar los datos observados y la distribución ajustada\n",
    "plt.hist(columna, bins=10, density=True, alpha=0.5, label='Datos observados')\n",
    "plt.plot(x, fitted_pdf, 'r-', lw=2, label='Distribución gamma ajustada')\n",
    "plt.legend()\n",
    "plt.show()\n",
    "\n",
    "# Realizar una prueba de bondad de ajuste (Kolmogorov-Smirnov)\n",
    "D, p_value = stats.kstest(columna, 'gamma', args=(shape, loc, scale))\n",
    "\n",
    "print(f'Estadístico D: {D}')\n",
    "print(f'Valor p: {p_value}')\n",
    "\n",
    "# Interpretar el valor p\n",
    "alpha = 0.05\n",
    "if p_value > alpha:\n",
    "    print('La columna se ajusta a la distribución gamma (no se rechaza H0)')\n",
    "else:\n",
    "    print('La columna no se ajusta a la distribución gamma (se rechaza H0)')"
   ]
  },
  {
   "cell_type": "markdown",
   "metadata": {},
   "source": [
    "### Generando  mi propia distribucion de probabilidad"
   ]
  },
  {
   "cell_type": "code",
   "execution_count": 27,
   "metadata": {},
   "outputs": [
    {
     "data": {
      "image/png": "[encoded data removed]",
      "text/plain": [
       "<Figure size 640x480 with 1 Axes>"
      ]
     },
     "metadata": {},
     "output_type": "display_data"
    }
   ],
   "source": [
    "from scipy.stats import gaussian_kde\n",
    "\n",
    "# Seleccionar la columna que deseas ajustar\n",
    "columna = df_acc['End_Lng']\n",
    "\n",
    "# Ajustar una estimación de densidad de kernel (KDE) a los datos\n",
    "kde = gaussian_kde(columna)\n",
    "\n",
    "# Generar nuevos datos a partir de la estimación de densidad\n",
    "nuevos_datos = kde.resample(1000).flatten()\n",
    "\n",
    "# Graficar los datos originales y los nuevos datos generados\n",
    "x = np.linspace(min(columna), max(columna), 100)\n",
    "plt.hist(columna, bins=10, density=True, alpha=0.5, label='Datos originales')\n",
    "plt.hist(nuevos_datos, bins=30, density=True, alpha=0.5, label='Nuevos datos generados')\n",
    "plt.plot(x, kde(x), 'r-', lw=2, label='Estimación de densidad')\n",
    "plt.legend()\n",
    "plt.show()\n"
   ]
  },
  {
   "cell_type": "markdown",
   "metadata": {},
   "source": [
    "### Reemplazando nulos en mi dataset con esta tecnica kde"
   ]
  },
  {
   "cell_type": "code",
   "execution_count": 35,
   "metadata": {},
   "outputs": [
    {
     "data": {
      "text/plain": [
       "ID                           0\n",
       "Source                       0\n",
       "Severity                     0\n",
       "Start_Time                   0\n",
       "End_Time                     0\n",
       "Start_Lat                    0\n",
       "Start_Lng                    0\n",
       "End_Lat                      0\n",
       "End_Lng                      0\n",
       "Distance(mi)                 0\n",
       "Description                  1\n",
       "Street                     437\n",
       "City                        50\n",
       "County                       0\n",
       "State                        0\n",
       "Zipcode                    358\n",
       "Country                      0\n",
       "Timezone                  1343\n",
       "Airport_Code              3084\n",
       "Weather_Timestamp        23759\n",
       "Temperature(F)           30964\n",
       "Wind_Chill(F)            40163\n",
       "Humidity(%)              33234\n",
       "Pressure(in)             25915\n",
       "Visibility(mi)           30356\n",
       "Wind_Direction           35789\n",
       "Wind_Speed(mph)          35761\n",
       "Precipitation(in)        62402\n",
       "Weather_Condition        29974\n",
       "Amenity                      0\n",
       "Bump                         0\n",
       "Crossing                     0\n",
       "Give_Way                     0\n",
       "Junction                     0\n",
       "No_Exit                      0\n",
       "Railway                      0\n",
       "Roundabout                   0\n",
       "Station                      0\n",
       "Stop                         0\n",
       "Traffic_Calming              0\n",
       "Traffic_Signal               0\n",
       "Turning_Loop                 0\n",
       "Sunrise_Sunset             377\n",
       "Civil_Twilight             377\n",
       "Nautical_Twilight          377\n",
       "Astronomical_Twilight      377\n",
       "year                         0\n",
       "dur_acc                      0\n",
       "dtype: int64"
      ]
     },
     "execution_count": 35,
     "metadata": {},
     "output_type": "execute_result"
    }
   ],
   "source": [
    "dataset = data.copy()\n",
    "\n",
    "# Función para reemplazar valores nulos utilizando KDE\n",
    "def reemplazar_nulos_kde(columna):\n",
    "    # Filtrar los valores no nulos\n",
    "    datos_no_nulos = columna.dropna()\n",
    "    \n",
    "    # Ajustar KDE a los datos no nulos\n",
    "    kde = gaussian_kde(datos_no_nulos)\n",
    "    \n",
    "    # Generar nuevos datos para reemplazar los valores nulos\n",
    "    nuevos_datos = kde.resample(columna.isna().sum()).flatten()\n",
    "    \n",
    "    # Reemplazar los valores nulos con los nuevos datos generados\n",
    "    columna[columna.isna()] = nuevos_datos\n",
    "    return columna\n",
    "\n",
    "# Reemplazar valores nulos en las columnas 'End_Lat' y 'End_Lng'\n",
    "dataset['End_Lat'] = reemplazar_nulos_kde(dataset['End_Lat'])\n",
    "dataset['End_Lng'] = reemplazar_nulos_kde(dataset['End_Lng'])\n",
    "\n",
    "dataset.isnull().sum()\n"
   ]
  },
  {
   "cell_type": "code",
   "execution_count": 36,
   "metadata": {},
   "outputs": [],
   "source": [
    "df_final = dataset.copy()\n",
    "df_final.dropna(axis=0, inplace=True)"
   ]
  },
  {
   "cell_type": "code",
   "execution_count": 37,
   "metadata": {},
   "outputs": [
    {
     "data": {
      "text/plain": [
       "(1093236, 48)"
      ]
     },
     "execution_count": 37,
     "metadata": {},
     "output_type": "execute_result"
    }
   ],
   "source": [
    "df_final.shape"
   ]
  },
  {
   "cell_type": "code",
   "execution_count": 38,
   "metadata": {},
   "outputs": [
    {
     "data": {
      "text/plain": [
       "Severity\n",
       "2    864164\n",
       "3    174487\n",
       "4     28862\n",
       "1     25723\n",
       "Name: count, dtype: int64"
      ]
     },
     "execution_count": 38,
     "metadata": {},
     "output_type": "execute_result"
    }
   ],
   "source": [
    "df_final['Severity'].value_counts()"
   ]
  },
  {
   "cell_type": "markdown",
   "metadata": {},
   "source": [
    "### Balanceo Clase Severity"
   ]
  },
  {
   "cell_type": "code",
   "execution_count": 49,
   "metadata": {},
   "outputs": [
    {
     "name": "stdout",
     "output_type": "stream",
     "text": [
      "Severity\n",
      "1    25700\n",
      "2    25700\n",
      "3    25700\n",
      "4    25700\n",
      "Name: count, dtype: int64\n"
     ]
    }
   ],
   "source": [
    "data_sel=df_final.copy()\n",
    "\n",
    "# Separando las clases\n",
    "df_sev_1 = data_sel[data_sel.Severity == 1]\n",
    "df_sev_2 = data_sel[data_sel.Severity == 2]\n",
    "df_sev_3 = data_sel[data_sel.Severity == 3]\n",
    "df_sev_4 = data_sel[data_sel.Severity == 4]\n",
    "\n",
    "# Submuestreando cada clase a 24.500 registros\n",
    "df_sev_1_d = resample(df_sev_1, replace=False, n_samples=25700, random_state=42) # para reproducibilidad\n",
    "df_sev_2_d = resample(df_sev_2, replace=False, n_samples=25700, random_state=42) # para reproducibilidad\n",
    "df_sev_3_d = resample(df_sev_3, replace=False, n_samples=25700, random_state=42) # para reproducibilidad\n",
    "df_sev_4_d = resample(df_sev_4, replace=False, n_samples=25700, random_state=42) # para reproducibilidad\n",
    "\n",
    "# Combinar las clases submuestreadas en un nuevo DataFrame\n",
    "df_acc_bal = pd.concat([df_sev_1_d, df_sev_2_d, df_sev_3_d, df_sev_4_d])\n",
    "\n",
    "# Mostrar la distribución de las clases después del submuestreo\n",
    "print(df_acc_bal['Severity'].value_counts())"
   ]
  },
  {
   "cell_type": "code",
   "execution_count": 50,
   "metadata": {},
   "outputs": [
    {
     "data": {
      "text/html": [
       "<div>\n",
       "<style scoped>\n",
       "    .dataframe tbody tr th:only-of-type {\n",
       "        vertical-align: middle;\n",
       "    }\n",
       "\n",
       "    .dataframe tbody tr th {\n",
       "        vertical-align: top;\n",
       "    }\n",
       "\n",
       "    .dataframe thead th {\n",
       "        text-align: right;\n",
       "    }\n",
       "</style>\n",
       "<table border=\"1\" class=\"dataframe\">\n",
       "  <thead>\n",
       "    <tr style=\"text-align: right;\">\n",
       "      <th></th>\n",
       "      <th>ID</th>\n",
       "      <th>Source</th>\n",
       "      <th>Severity</th>\n",
       "      <th>Start_Time</th>\n",
       "      <th>End_Time</th>\n",
       "      <th>Start_Lat</th>\n",
       "      <th>Start_Lng</th>\n",
       "      <th>End_Lat</th>\n",
       "      <th>End_Lng</th>\n",
       "      <th>Distance(mi)</th>\n",
       "      <th>...</th>\n",
       "      <th>Stop</th>\n",
       "      <th>Traffic_Calming</th>\n",
       "      <th>Traffic_Signal</th>\n",
       "      <th>Turning_Loop</th>\n",
       "      <th>Sunrise_Sunset</th>\n",
       "      <th>Civil_Twilight</th>\n",
       "      <th>Nautical_Twilight</th>\n",
       "      <th>Astronomical_Twilight</th>\n",
       "      <th>year</th>\n",
       "      <th>dur_acc</th>\n",
       "    </tr>\n",
       "  </thead>\n",
       "  <tbody>\n",
       "    <tr>\n",
       "      <th>908771</th>\n",
       "      <td>A-7015015</td>\n",
       "      <td>Source1</td>\n",
       "      <td>1</td>\n",
       "      <td>2020-05-07 06:07:51</td>\n",
       "      <td>2020-05-07 06:52:51</td>\n",
       "      <td>33.64071</td>\n",
       "      <td>-111.98651</td>\n",
       "      <td>33.64071</td>\n",
       "      <td>-111.98651</td>\n",
       "      <td>0.0</td>\n",
       "      <td>...</td>\n",
       "      <td>0</td>\n",
       "      <td>0</td>\n",
       "      <td>1</td>\n",
       "      <td>0</td>\n",
       "      <td>Day</td>\n",
       "      <td>Day</td>\n",
       "      <td>Day</td>\n",
       "      <td>Day</td>\n",
       "      <td>2020</td>\n",
       "      <td>0.031250</td>\n",
       "    </tr>\n",
       "    <tr>\n",
       "      <th>1035257</th>\n",
       "      <td>A-7141532</td>\n",
       "      <td>Source1</td>\n",
       "      <td>1</td>\n",
       "      <td>2020-03-27 20:37:09</td>\n",
       "      <td>2020-03-27 21:05:28</td>\n",
       "      <td>38.21340</td>\n",
       "      <td>-122.13775</td>\n",
       "      <td>38.21340</td>\n",
       "      <td>-122.13775</td>\n",
       "      <td>0.0</td>\n",
       "      <td>...</td>\n",
       "      <td>0</td>\n",
       "      <td>0</td>\n",
       "      <td>0</td>\n",
       "      <td>0</td>\n",
       "      <td>Night</td>\n",
       "      <td>Night</td>\n",
       "      <td>Night</td>\n",
       "      <td>Day</td>\n",
       "      <td>2020</td>\n",
       "      <td>0.019664</td>\n",
       "    </tr>\n",
       "    <tr>\n",
       "      <th>901048</th>\n",
       "      <td>A-7007291</td>\n",
       "      <td>Source1</td>\n",
       "      <td>1</td>\n",
       "      <td>2020-05-01 03:24:26</td>\n",
       "      <td>2020-05-01 03:54:26</td>\n",
       "      <td>37.63689</td>\n",
       "      <td>-121.88416</td>\n",
       "      <td>37.63689</td>\n",
       "      <td>-121.88416</td>\n",
       "      <td>0.0</td>\n",
       "      <td>...</td>\n",
       "      <td>0</td>\n",
       "      <td>0</td>\n",
       "      <td>0</td>\n",
       "      <td>0</td>\n",
       "      <td>Night</td>\n",
       "      <td>Night</td>\n",
       "      <td>Night</td>\n",
       "      <td>Night</td>\n",
       "      <td>2020</td>\n",
       "      <td>0.020833</td>\n",
       "    </tr>\n",
       "    <tr>\n",
       "      <th>1059575</th>\n",
       "      <td>A-7165857</td>\n",
       "      <td>Source1</td>\n",
       "      <td>1</td>\n",
       "      <td>2020-04-09 05:55:40</td>\n",
       "      <td>2020-04-09 06:10:40</td>\n",
       "      <td>37.40551</td>\n",
       "      <td>-77.26531</td>\n",
       "      <td>37.40551</td>\n",
       "      <td>-77.26531</td>\n",
       "      <td>0.0</td>\n",
       "      <td>...</td>\n",
       "      <td>0</td>\n",
       "      <td>0</td>\n",
       "      <td>0</td>\n",
       "      <td>0</td>\n",
       "      <td>Night</td>\n",
       "      <td>Night</td>\n",
       "      <td>Day</td>\n",
       "      <td>Day</td>\n",
       "      <td>2020</td>\n",
       "      <td>0.010417</td>\n",
       "    </tr>\n",
       "    <tr>\n",
       "      <th>644835</th>\n",
       "      <td>A-6749421</td>\n",
       "      <td>Source1</td>\n",
       "      <td>1</td>\n",
       "      <td>2020-07-31 14:31:08</td>\n",
       "      <td>2020-07-31 15:31:08</td>\n",
       "      <td>36.14753</td>\n",
       "      <td>-86.75860</td>\n",
       "      <td>36.14753</td>\n",
       "      <td>-86.75860</td>\n",
       "      <td>0.0</td>\n",
       "      <td>...</td>\n",
       "      <td>0</td>\n",
       "      <td>0</td>\n",
       "      <td>0</td>\n",
       "      <td>0</td>\n",
       "      <td>Day</td>\n",
       "      <td>Day</td>\n",
       "      <td>Day</td>\n",
       "      <td>Day</td>\n",
       "      <td>2020</td>\n",
       "      <td>0.041667</td>\n",
       "    </tr>\n",
       "  </tbody>\n",
       "</table>\n",
       "<p>5 rows × 48 columns</p>\n",
       "</div>"
      ],
      "text/plain": [
       "                ID   Source  Severity           Start_Time  \\\n",
       "908771   A-7015015  Source1         1  2020-05-07 06:07:51   \n",
       "1035257  A-7141532  Source1         1  2020-03-27 20:37:09   \n",
       "901048   A-7007291  Source1         1  2020-05-01 03:24:26   \n",
       "1059575  A-7165857  Source1         1  2020-04-09 05:55:40   \n",
       "644835   A-6749421  Source1         1  2020-07-31 14:31:08   \n",
       "\n",
       "                    End_Time  Start_Lat  Start_Lng   End_Lat    End_Lng  \\\n",
       "908771   2020-05-07 06:52:51   33.64071 -111.98651  33.64071 -111.98651   \n",
       "1035257  2020-03-27 21:05:28   38.21340 -122.13775  38.21340 -122.13775   \n",
       "901048   2020-05-01 03:54:26   37.63689 -121.88416  37.63689 -121.88416   \n",
       "1059575  2020-04-09 06:10:40   37.40551  -77.26531  37.40551  -77.26531   \n",
       "644835   2020-07-31 15:31:08   36.14753  -86.75860  36.14753  -86.75860   \n",
       "\n",
       "         Distance(mi)  ... Stop Traffic_Calming Traffic_Signal Turning_Loop  \\\n",
       "908771            0.0  ...    0               0              1            0   \n",
       "1035257           0.0  ...    0               0              0            0   \n",
       "901048            0.0  ...    0               0              0            0   \n",
       "1059575           0.0  ...    0               0              0            0   \n",
       "644835            0.0  ...    0               0              0            0   \n",
       "\n",
       "        Sunrise_Sunset Civil_Twilight Nautical_Twilight Astronomical_Twilight  \\\n",
       "908771             Day            Day               Day                   Day   \n",
       "1035257          Night          Night             Night                   Day   \n",
       "901048           Night          Night             Night                 Night   \n",
       "1059575          Night          Night               Day                   Day   \n",
       "644835             Day            Day               Day                   Day   \n",
       "\n",
       "         year   dur_acc  \n",
       "908771   2020  0.031250  \n",
       "1035257  2020  0.019664  \n",
       "901048   2020  0.020833  \n",
       "1059575  2020  0.010417  \n",
       "644835   2020  0.041667  \n",
       "\n",
       "[5 rows x 48 columns]"
      ]
     },
     "execution_count": 50,
     "metadata": {},
     "output_type": "execute_result"
    }
   ],
   "source": [
    "df_acc_bal.head()"
   ]
  },
  {
   "cell_type": "code",
   "execution_count": 51,
   "metadata": {},
   "outputs": [],
   "source": [
    "df_acc_bal[\"Civil_Twilight_n\"] = pd.factorize(df_acc_bal[\"Civil_Twilight\"])[0]\n"
   ]
  },
  {
   "cell_type": "code",
   "execution_count": 52,
   "metadata": {},
   "outputs": [
    {
     "data": {
      "text/html": [
       "<div>\n",
       "<style scoped>\n",
       "    .dataframe tbody tr th:only-of-type {\n",
       "        vertical-align: middle;\n",
       "    }\n",
       "\n",
       "    .dataframe tbody tr th {\n",
       "        vertical-align: top;\n",
       "    }\n",
       "\n",
       "    .dataframe thead th {\n",
       "        text-align: right;\n",
       "    }\n",
       "</style>\n",
       "<table border=\"1\" class=\"dataframe\">\n",
       "  <thead>\n",
       "    <tr style=\"text-align: right;\">\n",
       "      <th></th>\n",
       "      <th>ID</th>\n",
       "      <th>Source</th>\n",
       "      <th>Severity</th>\n",
       "      <th>Start_Time</th>\n",
       "      <th>End_Time</th>\n",
       "      <th>Start_Lat</th>\n",
       "      <th>Start_Lng</th>\n",
       "      <th>End_Lat</th>\n",
       "      <th>End_Lng</th>\n",
       "      <th>Distance(mi)</th>\n",
       "      <th>...</th>\n",
       "      <th>Traffic_Calming</th>\n",
       "      <th>Traffic_Signal</th>\n",
       "      <th>Turning_Loop</th>\n",
       "      <th>Sunrise_Sunset</th>\n",
       "      <th>Civil_Twilight</th>\n",
       "      <th>Nautical_Twilight</th>\n",
       "      <th>Astronomical_Twilight</th>\n",
       "      <th>year</th>\n",
       "      <th>dur_acc</th>\n",
       "      <th>Civil_Twilight_n</th>\n",
       "    </tr>\n",
       "  </thead>\n",
       "  <tbody>\n",
       "    <tr>\n",
       "      <th>908771</th>\n",
       "      <td>A-7015015</td>\n",
       "      <td>Source1</td>\n",
       "      <td>1</td>\n",
       "      <td>2020-05-07 06:07:51</td>\n",
       "      <td>2020-05-07 06:52:51</td>\n",
       "      <td>33.64071</td>\n",
       "      <td>-111.98651</td>\n",
       "      <td>33.64071</td>\n",
       "      <td>-111.98651</td>\n",
       "      <td>0.0</td>\n",
       "      <td>...</td>\n",
       "      <td>0</td>\n",
       "      <td>1</td>\n",
       "      <td>0</td>\n",
       "      <td>Day</td>\n",
       "      <td>Day</td>\n",
       "      <td>Day</td>\n",
       "      <td>Day</td>\n",
       "      <td>2020</td>\n",
       "      <td>0.031250</td>\n",
       "      <td>0</td>\n",
       "    </tr>\n",
       "    <tr>\n",
       "      <th>1035257</th>\n",
       "      <td>A-7141532</td>\n",
       "      <td>Source1</td>\n",
       "      <td>1</td>\n",
       "      <td>2020-03-27 20:37:09</td>\n",
       "      <td>2020-03-27 21:05:28</td>\n",
       "      <td>38.21340</td>\n",
       "      <td>-122.13775</td>\n",
       "      <td>38.21340</td>\n",
       "      <td>-122.13775</td>\n",
       "      <td>0.0</td>\n",
       "      <td>...</td>\n",
       "      <td>0</td>\n",
       "      <td>0</td>\n",
       "      <td>0</td>\n",
       "      <td>Night</td>\n",
       "      <td>Night</td>\n",
       "      <td>Night</td>\n",
       "      <td>Day</td>\n",
       "      <td>2020</td>\n",
       "      <td>0.019664</td>\n",
       "      <td>1</td>\n",
       "    </tr>\n",
       "    <tr>\n",
       "      <th>901048</th>\n",
       "      <td>A-7007291</td>\n",
       "      <td>Source1</td>\n",
       "      <td>1</td>\n",
       "      <td>2020-05-01 03:24:26</td>\n",
       "      <td>2020-05-01 03:54:26</td>\n",
       "      <td>37.63689</td>\n",
       "      <td>-121.88416</td>\n",
       "      <td>37.63689</td>\n",
       "      <td>-121.88416</td>\n",
       "      <td>0.0</td>\n",
       "      <td>...</td>\n",
       "      <td>0</td>\n",
       "      <td>0</td>\n",
       "      <td>0</td>\n",
       "      <td>Night</td>\n",
       "      <td>Night</td>\n",
       "      <td>Night</td>\n",
       "      <td>Night</td>\n",
       "      <td>2020</td>\n",
       "      <td>0.020833</td>\n",
       "      <td>1</td>\n",
       "    </tr>\n",
       "    <tr>\n",
       "      <th>1059575</th>\n",
       "      <td>A-7165857</td>\n",
       "      <td>Source1</td>\n",
       "      <td>1</td>\n",
       "      <td>2020-04-09 05:55:40</td>\n",
       "      <td>2020-04-09 06:10:40</td>\n",
       "      <td>37.40551</td>\n",
       "      <td>-77.26531</td>\n",
       "      <td>37.40551</td>\n",
       "      <td>-77.26531</td>\n",
       "      <td>0.0</td>\n",
       "      <td>...</td>\n",
       "      <td>0</td>\n",
       "      <td>0</td>\n",
       "      <td>0</td>\n",
       "      <td>Night</td>\n",
       "      <td>Night</td>\n",
       "      <td>Day</td>\n",
       "      <td>Day</td>\n",
       "      <td>2020</td>\n",
       "      <td>0.010417</td>\n",
       "      <td>1</td>\n",
       "    </tr>\n",
       "    <tr>\n",
       "      <th>644835</th>\n",
       "      <td>A-6749421</td>\n",
       "      <td>Source1</td>\n",
       "      <td>1</td>\n",
       "      <td>2020-07-31 14:31:08</td>\n",
       "      <td>2020-07-31 15:31:08</td>\n",
       "      <td>36.14753</td>\n",
       "      <td>-86.75860</td>\n",
       "      <td>36.14753</td>\n",
       "      <td>-86.75860</td>\n",
       "      <td>0.0</td>\n",
       "      <td>...</td>\n",
       "      <td>0</td>\n",
       "      <td>0</td>\n",
       "      <td>0</td>\n",
       "      <td>Day</td>\n",
       "      <td>Day</td>\n",
       "      <td>Day</td>\n",
       "      <td>Day</td>\n",
       "      <td>2020</td>\n",
       "      <td>0.041667</td>\n",
       "      <td>0</td>\n",
       "    </tr>\n",
       "  </tbody>\n",
       "</table>\n",
       "<p>5 rows × 49 columns</p>\n",
       "</div>"
      ],
      "text/plain": [
       "                ID   Source  Severity           Start_Time  \\\n",
       "908771   A-7015015  Source1         1  2020-05-07 06:07:51   \n",
       "1035257  A-7141532  Source1         1  2020-03-27 20:37:09   \n",
       "901048   A-7007291  Source1         1  2020-05-01 03:24:26   \n",
       "1059575  A-7165857  Source1         1  2020-04-09 05:55:40   \n",
       "644835   A-6749421  Source1         1  2020-07-31 14:31:08   \n",
       "\n",
       "                    End_Time  Start_Lat  Start_Lng   End_Lat    End_Lng  \\\n",
       "908771   2020-05-07 06:52:51   33.64071 -111.98651  33.64071 -111.98651   \n",
       "1035257  2020-03-27 21:05:28   38.21340 -122.13775  38.21340 -122.13775   \n",
       "901048   2020-05-01 03:54:26   37.63689 -121.88416  37.63689 -121.88416   \n",
       "1059575  2020-04-09 06:10:40   37.40551  -77.26531  37.40551  -77.26531   \n",
       "644835   2020-07-31 15:31:08   36.14753  -86.75860  36.14753  -86.75860   \n",
       "\n",
       "         Distance(mi)  ... Traffic_Calming Traffic_Signal Turning_Loop  \\\n",
       "908771            0.0  ...               0              1            0   \n",
       "1035257           0.0  ...               0              0            0   \n",
       "901048            0.0  ...               0              0            0   \n",
       "1059575           0.0  ...               0              0            0   \n",
       "644835            0.0  ...               0              0            0   \n",
       "\n",
       "        Sunrise_Sunset Civil_Twilight Nautical_Twilight Astronomical_Twilight  \\\n",
       "908771             Day            Day               Day                   Day   \n",
       "1035257          Night          Night             Night                   Day   \n",
       "901048           Night          Night             Night                 Night   \n",
       "1059575          Night          Night               Day                   Day   \n",
       "644835             Day            Day               Day                   Day   \n",
       "\n",
       "         year   dur_acc Civil_Twilight_n  \n",
       "908771   2020  0.031250                0  \n",
       "1035257  2020  0.019664                1  \n",
       "901048   2020  0.020833                1  \n",
       "1059575  2020  0.010417                1  \n",
       "644835   2020  0.041667                0  \n",
       "\n",
       "[5 rows x 49 columns]"
      ]
     },
     "execution_count": 52,
     "metadata": {},
     "output_type": "execute_result"
    }
   ],
   "source": [
    "df_acc_bal.head()"
   ]
  },
  {
   "cell_type": "code",
   "execution_count": 62,
   "metadata": {},
   "outputs": [
    {
     "data": {
      "text/plain": [
       "Severity\n",
       "2    864164\n",
       "3    174487\n",
       "4     28862\n",
       "1     25723\n",
       "Name: count, dtype: int64"
      ]
     },
     "execution_count": 62,
     "metadata": {},
     "output_type": "execute_result"
    }
   ],
   "source": [
    "df_final['Severity'].value_counts()"
   ]
  },
  {
   "cell_type": "code",
   "execution_count": 63,
   "metadata": {},
   "outputs": [],
   "source": [
    "df_final[\"Civil_Twilight_n\"] = pd.factorize(df_final[\"Civil_Twilight\"])[0]"
   ]
  },
  {
   "cell_type": "code",
   "execution_count": 64,
   "metadata": {},
   "outputs": [
    {
     "data": {
      "text/html": [
       "<div>\n",
       "<style scoped>\n",
       "    .dataframe tbody tr th:only-of-type {\n",
       "        vertical-align: middle;\n",
       "    }\n",
       "\n",
       "    .dataframe tbody tr th {\n",
       "        vertical-align: top;\n",
       "    }\n",
       "\n",
       "    .dataframe thead th {\n",
       "        text-align: right;\n",
       "    }\n",
       "</style>\n",
       "<table border=\"1\" class=\"dataframe\">\n",
       "  <thead>\n",
       "    <tr style=\"text-align: right;\">\n",
       "      <th></th>\n",
       "      <th>Start_Lat</th>\n",
       "      <th>Start_Lng</th>\n",
       "      <th>Traffic_Signal</th>\n",
       "      <th>Civil_Twilight_n</th>\n",
       "      <th>Temperature(F)</th>\n",
       "      <th>Humidity(%)</th>\n",
       "    </tr>\n",
       "  </thead>\n",
       "  <tbody>\n",
       "    <tr>\n",
       "      <th>0</th>\n",
       "      <td>39.376530</td>\n",
       "      <td>-74.478561</td>\n",
       "      <td>0</td>\n",
       "      <td>0</td>\n",
       "      <td>43.0</td>\n",
       "      <td>74.0</td>\n",
       "    </tr>\n",
       "    <tr>\n",
       "      <th>1</th>\n",
       "      <td>41.932789</td>\n",
       "      <td>-88.038078</td>\n",
       "      <td>0</td>\n",
       "      <td>0</td>\n",
       "      <td>20.0</td>\n",
       "      <td>81.0</td>\n",
       "    </tr>\n",
       "    <tr>\n",
       "      <th>2</th>\n",
       "      <td>41.623920</td>\n",
       "      <td>-87.680061</td>\n",
       "      <td>0</td>\n",
       "      <td>0</td>\n",
       "      <td>22.0</td>\n",
       "      <td>91.0</td>\n",
       "    </tr>\n",
       "    <tr>\n",
       "      <th>3</th>\n",
       "      <td>41.794476</td>\n",
       "      <td>-87.631599</td>\n",
       "      <td>1</td>\n",
       "      <td>0</td>\n",
       "      <td>27.0</td>\n",
       "      <td>72.0</td>\n",
       "    </tr>\n",
       "    <tr>\n",
       "      <th>4</th>\n",
       "      <td>39.771069</td>\n",
       "      <td>-104.847038</td>\n",
       "      <td>1</td>\n",
       "      <td>0</td>\n",
       "      <td>28.0</td>\n",
       "      <td>69.0</td>\n",
       "    </tr>\n",
       "  </tbody>\n",
       "</table>\n",
       "</div>"
      ],
      "text/plain": [
       "   Start_Lat   Start_Lng  Traffic_Signal  Civil_Twilight_n  Temperature(F)  \\\n",
       "0  39.376530  -74.478561               0                 0            43.0   \n",
       "1  41.932789  -88.038078               0                 0            20.0   \n",
       "2  41.623920  -87.680061               0                 0            22.0   \n",
       "3  41.794476  -87.631599               1                 0            27.0   \n",
       "4  39.771069 -104.847038               1                 0            28.0   \n",
       "\n",
       "   Humidity(%)  \n",
       "0         74.0  \n",
       "1         81.0  \n",
       "2         91.0  \n",
       "3         72.0  \n",
       "4         69.0  "
      ]
     },
     "execution_count": 64,
     "metadata": {},
     "output_type": "execute_result"
    }
   ],
   "source": [
    "#Posibles Variables del Modelo\n",
    "var_f=['Start_Lat', 'Start_Lng','Traffic_Signal','Civil_Twilight_n','Temperature(F)','Humidity(%)']\n",
    "\n",
    "X_f=df_final[var_f]\n",
    "y_f=df_final['Severity']\n",
    "X_f.head()"
   ]
  },
  {
   "cell_type": "markdown",
   "metadata": {},
   "source": [
    "### Conjuntos Train y Test\n"
   ]
  },
  {
   "cell_type": "code",
   "execution_count": 65,
   "metadata": {},
   "outputs": [],
   "source": [
    "# Dividir los datos de manera estratificada\n",
    "X_train, X_test, y_train, y_test = train_test_split(X_f, y_f, test_size=0.3, stratify=y_f, random_state=42)"
   ]
  },
  {
   "cell_type": "markdown",
   "metadata": {},
   "source": [
    "### Creacion modelo random forest clasiffier"
   ]
  },
  {
   "cell_type": "code",
   "execution_count": 67,
   "metadata": {},
   "outputs": [
    {
     "name": "stdout",
     "output_type": "stream",
     "text": [
      "F1-score promedio en validación cruzada: 0.5719726433673097\n",
      "              precision    recall  f1-score   support\n",
      "\n",
      "           1       0.68      0.44      0.53      7717\n",
      "           2       0.87      0.95      0.91    259249\n",
      "           3       0.65      0.43      0.52     52346\n",
      "           4       0.58      0.31      0.41      8659\n",
      "\n",
      "    accuracy                           0.84    327971\n",
      "   macro avg       0.70      0.53      0.59    327971\n",
      "weighted avg       0.82      0.84      0.82    327971\n",
      "\n"
     ]
    }
   ],
   "source": [
    "# Crear el modelo de Random Forest\n",
    "model = RandomForestClassifier(random_state=42)\n",
    "\n",
    "# Validación cruzada estratificada\n",
    "skf = StratifiedKFold(n_splits=5)\n",
    "scores = cross_val_score(model, X_train, y_train, cv=skf, scoring='f1_macro')\n",
    "\n",
    "print(f'F1-score promedio en validación cruzada: {scores.mean()}')\n",
    "\n",
    "# Entrenar el modelo y evaluar en el conjunto de prueba\n",
    "model.fit(X_train, y_train)\n",
    "y_pred = model.predict(X_test)\n",
    "\n",
    "print(classification_report(y_test, y_pred))"
   ]
  },
  {
   "cell_type": "code",
   "execution_count": 68,
   "metadata": {},
   "outputs": [
    {
     "name": "stdout",
     "output_type": "stream",
     "text": [
      "Accuracy Score: 0.838\n",
      "El número de predicciones exactas es:  274773.0\n"
     ]
    }
   ],
   "source": [
    "print(f\"Accuracy Score: {np.round(accuracy_score(y_test, y_pred),3)}\")\n",
    "predicciones_exactas = accuracy_score(y_test, y_pred, normalize=False)\n",
    "print(\"El número de predicciones exactas es: \", predicciones_exactas) "
   ]
  }
 ],
 "metadata": {
  "kernelspec": {
   "display_name": "env_proyectofinal",
   "language": "python",
   "name": "python3"
  },
  "language_info": {
   "codemirror_mode": {
    "name": "ipython",
    "version": 3
   },
   "file_extension": ".py",
   "mimetype": "text/x-python",
   "name": "python",
   "nbconvert_exporter": "python",
   "pygments_lexer": "ipython3",
   "version": "3.12.3"
  }
 },
 "nbformat": 4,
 "nbformat_minor": 2
}
